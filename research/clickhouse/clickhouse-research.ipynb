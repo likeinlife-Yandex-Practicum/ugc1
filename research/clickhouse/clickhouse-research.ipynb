{
 "cells": [
  {
   "cell_type": "code",
   "execution_count": null,
   "id": "cc5ddb698535f2c1",
   "metadata": {
    "collapsed": false
   },
   "outputs": [],
   "source": [
    "from clickhouse_driver import Client\n",
    "client = Client(host='localhost')\n",
    "client.execute('SHOW DATABASES')"
   ]
  },
  {
   "cell_type": "markdown",
   "id": "eca80df136f6cf1a",
   "metadata": {
    "collapsed": false
   },
   "source": [
    "Измерения во время загрузки данных"
   ]
  },
  {
   "cell_type": "code",
   "execution_count": null,
   "id": "8a07aa1482b9b7af",
   "metadata": {
    "collapsed": false
   },
   "outputs": [],
   "source": [
    "%%time\n",
    "client.execute('SELECT count() FROM ch_test.views')"
   ]
  },
  {
   "cell_type": "code",
   "execution_count": null,
   "id": "8981f0bed9073eaf",
   "metadata": {
    "collapsed": false
   },
   "outputs": [],
   "source": [
    "%%time\n",
    "client.execute('SELECT uniqExact(movie_id) FROM ch_test.views')"
   ]
  },
  {
   "cell_type": "code",
   "execution_count": null,
   "id": "8d01bfdcb98399c5",
   "metadata": {
    "collapsed": false
   },
   "outputs": [],
   "source": [
    "%%time\n",
    "client.execute('SELECT uniqExact(user_id) FROM ch_test.views')"
   ]
  },
  {
   "cell_type": "code",
   "execution_count": null,
   "id": "b2cdd7de856366eb",
   "metadata": {
    "collapsed": false
   },
   "outputs": [],
   "source": [
    "%%time\n",
    "_ = client.execute(\n",
    "    \"\"\"\n",
    "    SELECT\n",
    "    user_id,\n",
    "    sum(viewed_frame),\n",
    "    max(viewed_frame)\n",
    "    FROM ch_test.views\n",
    "    GROUP by user_id\n",
    "    \"\"\"\n",
    ")"
   ]
  },
  {
   "cell_type": "markdown",
   "id": "aa8f9092ab99f451",
   "metadata": {
    "collapsed": false
   },
   "source": [
    "После загрузки данных (10кк строк)"
   ]
  },
  {
   "cell_type": "code",
   "execution_count": null,
   "id": "d5a916b5d26bb5b",
   "metadata": {
    "collapsed": false
   },
   "outputs": [],
   "source": [
    "%%time\n",
    "client.execute('SELECT count() FROM ch_test.views')"
   ]
  },
  {
   "cell_type": "code",
   "execution_count": null,
   "id": "687242ec7350701d",
   "metadata": {
    "collapsed": false
   },
   "outputs": [],
   "source": [
    "%%time\n",
    "client.execute('SELECT uniqExact(movie_id) FROM ch_test.views')"
   ]
  },
  {
   "cell_type": "code",
   "execution_count": null,
   "id": "c0c06068ddf12e97",
   "metadata": {
    "collapsed": false
   },
   "outputs": [],
   "source": [
    "%%time\n",
    "client.execute('SELECT uniqExact(user_id) FROM ch_test.views')"
   ]
  },
  {
   "cell_type": "code",
   "execution_count": null,
   "id": "f88a0be8b493aafa",
   "metadata": {
    "collapsed": false
   },
   "outputs": [],
   "source": [
    "%%time\n",
    "_ = client.execute(\n",
    "    \"\"\"\n",
    "    SELECT\n",
    "    user_id,\n",
    "    sum(viewed_frame),\n",
    "    max(viewed_frame)\n",
    "    FROM ch_test.views\n",
    "    GROUP by user_id\n",
    "    \"\"\"\n",
    ")"
   ]
  },
  {
   "cell_type": "markdown",
   "metadata": {},
   "source": [
    "Параллельные действия"
   ]
  },
  {
   "cell_type": "code",
   "execution_count": null,
   "id": "3948aed8530f24b4",
   "metadata": {
    "collapsed": false
   },
   "outputs": [],
   "source": [
    "from multiprocessing import Process\n",
    "from clickhouse_driver import Client\n",
    "\n",
    "def exec_select():\n",
    "    client = Client(host='localhost')\n",
    "    client.execute(\n",
    "        \"\"\",\n",
    "        SELECT,\n",
    "        user_id,,\n",
    "        sum(viewed_frame),,\n",
    "        max(viewed_frame),\n",
    "        FROM ch_test.views,\n",
    "        GROUP by user_id,\n",
    "        \"\"\",\n",
    "    )"
   ]
  },
  {
   "cell_type": "code",
   "execution_count": null,
   "metadata": {},
   "outputs": [],
   "source": [
    "%%time\n",
    "processes = [Process(target=exec_select) for _ in range(4)]\n",
    "    \n",
    "for process in processes:\n",
    "    process.start()\n",
    "\n",
    "for process in processes:\n",
    "    process.join()"
   ]
  }
 ],
 "metadata": {
  "kernelspec": {
   "display_name": "Python 3",
   "language": "python",
   "name": "python3"
  },
  "language_info": {
   "codemirror_mode": {
    "name": "ipython",
    "version": 2
   },
   "file_extension": ".py",
   "mimetype": "text/x-python",
   "name": "python",
   "nbconvert_exporter": "python",
   "pygments_lexer": "ipython2",
   "version": "3.10.12"
  }
 },
 "nbformat": 4,
 "nbformat_minor": 5
}
