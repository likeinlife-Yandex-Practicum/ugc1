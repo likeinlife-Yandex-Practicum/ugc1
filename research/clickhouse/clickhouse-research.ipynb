{
 "cells": [
  {
   "cell_type": "code",
   "execution_count": null,
   "outputs": [],
   "source": [
    "from clickhouse_driver import Client\n",
    "client = Client(host='localhost')\n",
    "client.execute('SHOW DATABASES')"
   ],
   "metadata": {
    "collapsed": false
   },
   "id": "cc5ddb698535f2c1"
  },
  {
   "cell_type": "markdown",
   "source": [
    "Измерения во время загрузки данных"
   ],
   "metadata": {
    "collapsed": false
   },
   "id": "eca80df136f6cf1a"
  },
  {
   "cell_type": "code",
   "execution_count": null,
   "outputs": [],
   "source": [
    "%%time\n",
    "client.execute('SELECT count() FROM ch_test.views')"
   ],
   "metadata": {
    "collapsed": false
   },
   "id": "8a07aa1482b9b7af"
  },
  {
   "cell_type": "code",
   "execution_count": null,
   "outputs": [],
   "source": [
    "%%time\n",
    "client.execute('SELECT uniqExact(movie_id) FROM ch_test.views')"
   ],
   "metadata": {
    "collapsed": false
   },
   "id": "8981f0bed9073eaf"
  },
  {
   "cell_type": "code",
   "execution_count": null,
   "outputs": [],
   "source": [
    "%%time\n",
    "client.execute('SELECT uniqExact(user_id) FROM ch_test.views')"
   ],
   "metadata": {
    "collapsed": false
   },
   "id": "8d01bfdcb98399c5"
  },
  {
   "cell_type": "code",
   "execution_count": null,
   "outputs": [],
   "source": [
    "%%time\n",
    "_ = client.execute(\n",
    "    \"\"\"\n",
    "    SELECT\n",
    "    user_id,\n",
    "    sum(viewed_frame),\n",
    "    max(viewed_frame)\n",
    "    FROM ch_test.views\n",
    "    GROUP by user_id\n",
    "    \"\"\"\n",
    ")"
   ],
   "metadata": {
    "collapsed": false
   },
   "id": "b2cdd7de856366eb"
  },
  {
   "cell_type": "markdown",
   "source": [
    "После загрузки данных (10кк строк)"
   ],
   "metadata": {
    "collapsed": false
   },
   "id": "aa8f9092ab99f451"
  },
  {
   "cell_type": "code",
   "execution_count": null,
   "outputs": [],
   "source": [
    "%%time\n",
    "client.execute('SELECT count() FROM ch_test.views')"
   ],
   "metadata": {
    "collapsed": false
   },
   "id": "d5a916b5d26bb5b"
  },
  {
   "cell_type": "code",
   "execution_count": null,
   "outputs": [],
   "source": [
    "%%time\n",
    "client.execute('SELECT uniqExact(movie_id) FROM ch_test.views')"
   ],
   "metadata": {
    "collapsed": false
   },
   "id": "687242ec7350701d"
  },
  {
   "cell_type": "code",
   "execution_count": null,
   "outputs": [],
   "source": [
    "%%time\n",
    "client.execute('SELECT uniqExact(user_id) FROM ch_test.views')"
   ],
   "metadata": {
    "collapsed": false
   },
   "id": "c0c06068ddf12e97"
  },
  {
   "cell_type": "code",
   "execution_count": null,
   "outputs": [],
   "source": [
    "%%time\n",
    "_ = client.execute(\n",
    "    \"\"\"\n",
    "    SELECT\n",
    "    user_id,\n",
    "    sum(viewed_frame),\n",
    "    max(viewed_frame)\n",
    "    FROM ch_test.views\n",
    "    GROUP by user_id\n",
    "    \"\"\"\n",
    ")"
   ],
   "metadata": {
    "collapsed": false
   },
   "id": "f88a0be8b493aafa"
  },
  {
   "cell_type": "code",
   "execution_count": null,
   "outputs": [],
   "source": [],
   "metadata": {
    "collapsed": false
   },
   "id": "3948aed8530f24b4"
  }
 ],
 "metadata": {
  "kernelspec": {
   "display_name": "Python 3",
   "language": "python",
   "name": "python3"
  },
  "language_info": {
   "codemirror_mode": {
    "name": "ipython",
    "version": 2
   },
   "file_extension": ".py",
   "mimetype": "text/x-python",
   "name": "python",
   "nbconvert_exporter": "python",
   "pygments_lexer": "ipython2",
   "version": "2.7.6"
  }
 },
 "nbformat": 4,
 "nbformat_minor": 5
}
